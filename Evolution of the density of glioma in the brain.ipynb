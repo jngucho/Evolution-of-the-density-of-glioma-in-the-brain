{
 "cells": [
  {
   "cell_type": "markdown",
   "metadata": {},
   "source": [
    "# Numerical approach for the reaction–diffusion problem to model the density of the tumor growth dynamics\n",
    "\n",
    "## The aim of this worksheet is to solve the differential equation below\n",
    "\\begin{equation}\n",
    "\\dfrac{\\partial c(x,t)}{\\partial t} = \\dfrac{\\partial }{\\partial x}\\left(D(x)\\dfrac{\\partial c(x,t)}{\\partial x} \\right) + \\rho c(x,t)\\left(1- \\dfrac{c(t,x)}{c_{max}}\\right)\n",
    "\\end{equation}\n",
    "and where the diffusion coefficient $D$\n",
    "\\begin{equation}\n",
    "D(x) = \\begin{split}\n",
    "D_g = 0.13 mm^2/day \\qquad\\qquad  0\\le x \\le 7.5 \\qquad \\text{(gray region)} \\\\\n",
    "D_w = 0.65 mm^2/day \\qquad  7.5\\le x \\le 42.5 \\qquad \\text{(white region)}\\\\\n",
    "D_g = 0.13 mm^2/day \\qquad\\qquad  42.5\\le x \\le 50 \\qquad \\text{(gray region)}\n",
    "\\end{split}\n",
    "\\end{equation}\n",
    "with the Neumann boundary conditions (zero-flux)\n",
    "\\begin{equation}\n",
    "c_x(0,t)=0 \\qquad \\qquad \\qquad  c_x(50,t)=0\n",
    "\\end{equation}\n",
    "and the initial condition is taken as Gaussian initial tumor profile\n",
    "\\begin{equation}\n",
    "c(x,0)= g(x) = \\dfrac{1}{\\sqrt{2\\pi}\\varepsilon}e^{-\\frac{1}{2}\\left(\\frac{x-x_0}{\\varepsilon}\\right)^2}\n",
    "\\end{equation}\n",
    "where $c = c ( t , x )$ denoted the tumor concentration of glioma cells at time $t$ and spatial location $x$ and $x_0 = 25 mm$ (the middle of the considered interval) and $ε = 0 . 01$. Here, $\\rho$ is the net proliferation rate in units $day^{-1}$ and Fickian diffusion has been used to quantify the random motility of a variety of invading cells (Cozens-Roberts et al). A factor of $5$, $D_w = 5 D_g$, was used by Swanson et al. but this may vary from patient to patient."
   ]
  },
  {
   "cell_type": "code",
   "execution_count": 130,
   "metadata": {},
   "outputs": [],
   "source": [
    "import numpy as np \n",
    "import matplotlib.pyplot as plt"
   ]
  },
  {
   "cell_type": "code",
   "execution_count": 142,
   "metadata": {},
   "outputs": [],
   "source": [
    "# intialisation \n",
    "a= 0 ; b = 50  # space dimensions \n",
    "ti=0 ; tf= 50  # time observation\n",
    "dt = 0.01\n",
    "dx = 0.5\n",
    "M = int(b/dx) # length of the space grid [x_0, x_1, ... , x_M]\n",
    "P =  int(tf/dt) # length of the time grid [t_0, t1, ... , t_P]\n",
    "x = np.linspace(a,b,M+1)\n",
    "t = np.linspace(ti, tf, P+1)\n",
    "c = np.zeros((M+1,P+1))\n",
    "D_ = np.zeros(M) # table which contains the all the values of D(x), D_[i]=D_{i+1/2}=D((x[i]+x[i+1])/2)\n",
    "                 # it is easy to understand that D_[i-1]=D_{i-1/2}...\n",
    "\n",
    "# constants initialisation\n",
    "eps = 0.01\n",
    "x0 = 25\n",
    "Dg = 0.13\n",
    "Dw = 5*Dg\n",
    "rho = 0.012\n",
    "cmax = 62.5 \n",
    "#cmax = 39.89"
   ]
  },
  {
   "cell_type": "code",
   "execution_count": 143,
   "metadata": {},
   "outputs": [],
   "source": [
    "# Initial condition\n",
    "def g(x_):\n",
    "    result = np.exp(-0.5*((x_-x0)/eps)**2)/(eps*np.sqrt(2*np.pi)) \n",
    "    return result\n",
    "\n",
    "c[:,0]=g(x)\n",
    "\n",
    "# diffusion coefficient D\n",
    "def D(x_):\n",
    "    if x_>=0 and x_<=7.5:\n",
    "        return Dg\n",
    "    elif x_>=7.5 and x_<=42.5:\n",
    "        return Dw\n",
    "    elif x_>=42.5 and x_<=50:\n",
    "        return Dg\n",
    "    else :\n",
    "        print(\"Out of the zone, the arg of D not belong to [0,50]\")\n",
    "\n",
    "for i in range(len(x)-1):\n",
    "    D_[i] = D((x[i]+x[i+1])/2)"
   ]
  },
  {
   "cell_type": "code",
   "execution_count": 144,
   "metadata": {},
   "outputs": [],
   "source": [
    "alpha = dt/(2*dx**2)\n",
    "beta = dt*rho/2\n",
    "gamma = dt*rho/(2*cmax)\n",
    "def F(c_, b):\n",
    "    result=[]\n",
    "    for i in range(1,len(c_)-1):\n",
    "        result=[*result, alpha*D_[i-1]*c_[i-1]+ alpha*D_[i]*c_[i+1] - (alpha*(D_[i-1]+D_[i]) -\n",
    "                                                        beta + 1)*c_[i] - gamma*c_[i]**2 + b[i] ]\n",
    "    return np.array(result)\n",
    "\n",
    "def delta(m:int,p:int)->int:\n",
    "    return 1 if m==p else 0\n",
    "\n",
    "def dF_matrix(c_):\n",
    "    result=np.zeros((len(c_)-2,len(c_)-2))\n",
    "    for i in range(1,len(c_)-1):\n",
    "        for j in range(1,len(c_)-1):\n",
    "            result[i-1,j-1] = alpha*D_[i-1]*delta(i-1,j)+ alpha*D_[i]*delta(i+1,j) - (alpha*(D_[i-1]+D_[i]) -\n",
    "                                                        beta + 1)*delta(i,j) - 2*gamma*c_[i]*delta(i,j)\n",
    "    return result\n",
    "    "
   ]
  },
  {
   "cell_type": "code",
   "execution_count": 145,
   "metadata": {},
   "outputs": [],
   "source": [
    "# Use Newton's method to solve systems of nonlinear algebraic equations.\n",
    "def Newton_system(F, dF_matrix, c_, b, err):\n",
    "    # Solve nonlinear system F=0 by Newton's method.\n",
    "    # dF_matrix is the Jacobian of F. Both F and dF_matrix must be functions of c.\n",
    "    # At input, c holds the start value. The iteration continues\n",
    "    # until ||F|| < err.\n",
    "\n",
    "    F_value = F(c_, b)\n",
    "    dF_matrix_value = dF_matrix(c_)\n",
    "    F_norm = np.linalg.norm(F_value, ord=2)  #l2 norm of vector\n",
    "    iteration_counter = 0\n",
    "    while abs(F_norm) > err and iteration_counter < 100:\n",
    "        delta_c = np.linalg.solve(dF_matrix_value, -F_value)\n",
    "        c_[1:len(F_value)+1] = c_[1:len(F_value)+1] + delta_c\n",
    "        c_[0] = c_[2]    # boundary conditions\n",
    "        c_[M] = c_[M-2]  # boundary conditions\n",
    "        F_value = F(c_, b)\n",
    "        dF_matrix_value = dF_matrix(c_)\n",
    "        F_norm = np.linalg.norm(F_value, ord=2)\n",
    "        iteration_counter = iteration_counter + 1\n",
    "\n",
    "    # Here, either a solution is found, or too many iterations\n",
    "    if abs(F_norm) > err:\n",
    "        iteration_counter = -1\n",
    "        print('solutions no found: no convergence')\n",
    "    return c_"
   ]
  },
  {
   "cell_type": "code",
   "execution_count": 146,
   "metadata": {},
   "outputs": [],
   "source": [
    "err = 0.001\n",
    "for n in range(1,P+1):\n",
    "    # print('for the time t='+str(n))\n",
    "    # first guest for the Newton method\n",
    "    c[:,n]=c[:,0]\n",
    "    #use of the Newton method\n",
    "    c[:,n] = Newton_system(F, dF_matrix, c[:,n], c[:,n-1], err)"
   ]
  },
  {
   "cell_type": "code",
   "execution_count": 151,
   "metadata": {},
   "outputs": [],
   "source": [
    "for (t_obs, marker) in  [(1,'*'), (5, 'o'), (10, '--'),(50, '-.')]:\n",
    "    nt = int(t_obs/dt) \n",
    "    plt.plot(x,c[:,nt], marker, label='for $t=$'+str(t_obs)+' days' )\n",
    "plt.title(r'The values of the tumor concentration $c(t,x)$ of glioma cells versus $x$ ')\n",
    "plt.grid(True)\n",
    "plt.xlabel('x')\n",
    "plt.ylabel('$c(x,t)$')\n",
    "#plt.legend(bbox_to_anchor=(1,1))\n",
    "plt.legend(loc='best')\n",
    "plt.savefig('figure_new.png')\n",
    "plt.show()"
   ]
  },
  {
   "cell_type": "code",
   "execution_count": null,
   "metadata": {},
   "outputs": [],
   "source": []
  }
 ],
 "metadata": {
  "kernelspec": {
   "display_name": "Python 3",
   "language": "python",
   "name": "python3"
  },
  "language_info": {
   "codemirror_mode": {
    "name": "ipython",
    "version": 3
   },
   "file_extension": ".py",
   "mimetype": "text/x-python",
   "name": "python",
   "nbconvert_exporter": "python",
   "pygments_lexer": "ipython3",
   "version": "3.7.1"
  }
 },
 "nbformat": 4,
 "nbformat_minor": 2
}
